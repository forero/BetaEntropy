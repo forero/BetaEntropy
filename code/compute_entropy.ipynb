{
 "cells": [
  {
   "cell_type": "code",
   "execution_count": 23,
   "metadata": {},
   "outputs": [],
   "source": [
    "import numpy as np\n",
    "import matplotlib.pyplot as plt\n",
    "import h5py\n",
    "import os\n",
    "from collections import Counter\n",
    "\n",
    "%matplotlib inline"
   ]
  },
  {
   "cell_type": "code",
   "execution_count": 30,
   "metadata": {},
   "outputs": [],
   "source": [
    "def run_beta_skel(pos_filename):\n",
    "    skel = \"./LSS_BSK_calc \"\n",
    "    beta = 2.0\n",
    "    in_filename = \"/Users/forero/github/cosmo_datasets/abacus/\"+pos_filename\n",
    "    out_filename =  \"beta_{:.1f}_{}\".format(beta, pos_filename)\n",
    "    index_filename = \"xdl_beta_skeleton/{}.BSKIndex\".format(out_filename)\n",
    "    if not os.path.exists(index_filename):\n",
    "        cmd = \"./LSS_BSK_calc -beta {} -numNNB {} -input {}  -output {}\".format(beta, 50, in_filename, out_filename)\n",
    "        print(cmd)\n",
    "        os.system(cmd)\n",
    "    return out_filename"
   ]
  },
  {
   "cell_type": "code",
   "execution_count": 31,
   "metadata": {},
   "outputs": [],
   "source": [
    "pos_filename = \"sphere_00_stdcosmo_norsd_z0.100.dat\"\n",
    "index_filename = run_beta_skel(pos_filename)"
   ]
  },
  {
   "cell_type": "code",
   "execution_count": null,
   "metadata": {},
   "outputs": [],
   "source": []
  }
 ],
 "metadata": {
  "kernelspec": {
   "display_name": "Python 3",
   "language": "python",
   "name": "python3"
  },
  "language_info": {
   "codemirror_mode": {
    "name": "ipython",
    "version": 3
   },
   "file_extension": ".py",
   "mimetype": "text/x-python",
   "name": "python",
   "nbconvert_exporter": "python",
   "pygments_lexer": "ipython3",
   "version": "3.6.8"
  }
 },
 "nbformat": 4,
 "nbformat_minor": 2
}
