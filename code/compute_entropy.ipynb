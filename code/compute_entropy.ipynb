{
 "cells": [
  {
   "cell_type": "code",
   "execution_count": 1,
   "metadata": {},
   "outputs": [],
   "source": [
    "import numpy as np\n",
    "import matplotlib.pyplot as plt\n",
    "import h5py\n",
    "import os\n",
    "from collections import Counter\n",
    "\n",
    "%matplotlib inline"
   ]
  },
  {
   "cell_type": "code",
   "execution_count": 5,
   "metadata": {},
   "outputs": [],
   "source": [
    "def run_beta_skel(pos_filename, beta=1.0):\n",
    "    skel = \"./LSS_BSK_calc \"\n",
    "    in_filename = \"/Users/forero/github/cosmo_datasets/abacus/\"+pos_filename\n",
    "    out_filename =  \"beta_{:.1f}_{}\".format(beta, pos_filename)\n",
    "    index_filename = \"xdl_beta_skeleton/{}.BSKIndex\".format(out_filename)\n",
    "    if not os.path.exists(index_filename):\n",
    "        cmd = \"./LSS_BSK_calc -beta {} -numNNB {} -input {}  -output {}\".format(beta, 50, in_filename, out_filename)\n",
    "        print(cmd)\n",
    "        os.system(cmd)\n",
    "    return index_filename, in_filename\n",
    "\n",
    "\n",
    "def get_entropy_beta_skel(in_filename, index_filename):\n",
    "    beta_data = np.int_(np.loadtxt(index_filename))\n",
    "    point_data = np.loadtxt(in_filename)\n",
    "    \n",
    "    # remove the duplicate points using the fact that the first column is ordered in ngl-beta\n",
    "    ii = beta_data[:,0]<beta_data[:,1]\n",
    "    beta_data = beta_data[ii]\n",
    "\n",
    "    n_points = len(point_data)\n",
    "    #print(n_points)\n",
    "\n",
    "    # Flattend and count links\n",
    "    beta_data_flat = beta_data.flatten()\n",
    "    beta_link_count = Counter(Counter(beta_data_flat).values())\n",
    "\n",
    "    # Count how many points have zero links\n",
    "    unique_beta_id = len(set(beta_data_flat))\n",
    "    if (n_points - unique_beta_id)>0:\n",
    "        beta_link_count[0] = n_points - unique_beta_id\n",
    "\n",
    "    assert np.sum(list(beta_link_count.values()))==n_points\n",
    "    # compute probability array\n",
    "    proba = []\n",
    "    total_link = np.sum(list(beta_link_count.values()))\n",
    "    for k in beta_link_count:\n",
    "        #print(k, beta_link_count[k]/total_link)\n",
    "        proba.append(beta_link_count[k]/total_link)\n",
    "    proba = np.array(proba)\n",
    "    print(proba, proba.sum())\n",
    "    entropy = np.sum(-proba*np.log(proba)/np.log10(2))\n",
    "    print('Entropy', entropy)\n",
    "    return entropy"
   ]
  },
  {
   "cell_type": "code",
   "execution_count": 84,
   "metadata": {},
   "outputs": [
    {
     "name": "stdout",
     "output_type": "stream",
     "text": [
      "./LSS_BSK_calc -beta 1.0 -numNNB 50 -input /Users/forero/github/cosmo_datasets/abacus/random_sphere_00_stdcosmo_norsd_z0.100.dat  -output beta_1.0_random_sphere_00_stdcosmo_norsd_z0.100.dat\n",
      "./LSS_BSK_calc -beta 2.0 -numNNB 50 -input /Users/forero/github/cosmo_datasets/abacus/random_sphere_00_stdcosmo_norsd_z0.100.dat  -output beta_2.0_random_sphere_00_stdcosmo_norsd_z0.100.dat\n",
      "./LSS_BSK_calc -beta 3.0 -numNNB 50 -input /Users/forero/github/cosmo_datasets/abacus/random_sphere_00_stdcosmo_norsd_z0.100.dat  -output beta_3.0_random_sphere_00_stdcosmo_norsd_z0.100.dat\n",
      "./LSS_BSK_calc -beta 1.0 -numNNB 50 -input /Users/forero/github/cosmo_datasets/abacus/random_sphere_00_stdcosmo_norsd_z0.300.dat  -output beta_1.0_random_sphere_00_stdcosmo_norsd_z0.300.dat\n",
      "./LSS_BSK_calc -beta 2.0 -numNNB 50 -input /Users/forero/github/cosmo_datasets/abacus/random_sphere_00_stdcosmo_norsd_z0.300.dat  -output beta_2.0_random_sphere_00_stdcosmo_norsd_z0.300.dat\n",
      "./LSS_BSK_calc -beta 3.0 -numNNB 50 -input /Users/forero/github/cosmo_datasets/abacus/random_sphere_00_stdcosmo_norsd_z0.300.dat  -output beta_3.0_random_sphere_00_stdcosmo_norsd_z0.300.dat\n",
      "./LSS_BSK_calc -beta 1.0 -numNNB 50 -input /Users/forero/github/cosmo_datasets/abacus/random_sphere_00_stdcosmo_norsd_z0.500.dat  -output beta_1.0_random_sphere_00_stdcosmo_norsd_z0.500.dat\n",
      "./LSS_BSK_calc -beta 2.0 -numNNB 50 -input /Users/forero/github/cosmo_datasets/abacus/random_sphere_00_stdcosmo_norsd_z0.500.dat  -output beta_2.0_random_sphere_00_stdcosmo_norsd_z0.500.dat\n",
      "./LSS_BSK_calc -beta 3.0 -numNNB 50 -input /Users/forero/github/cosmo_datasets/abacus/random_sphere_00_stdcosmo_norsd_z0.500.dat  -output beta_3.0_random_sphere_00_stdcosmo_norsd_z0.500.dat\n",
      "./LSS_BSK_calc -beta 1.0 -numNNB 50 -input /Users/forero/github/cosmo_datasets/abacus/random_sphere_00_stdcosmo_norsd_z0.700.dat  -output beta_1.0_random_sphere_00_stdcosmo_norsd_z0.700.dat\n",
      "./LSS_BSK_calc -beta 2.0 -numNNB 50 -input /Users/forero/github/cosmo_datasets/abacus/random_sphere_00_stdcosmo_norsd_z0.700.dat  -output beta_2.0_random_sphere_00_stdcosmo_norsd_z0.700.dat\n",
      "./LSS_BSK_calc -beta 3.0 -numNNB 50 -input /Users/forero/github/cosmo_datasets/abacus/random_sphere_00_stdcosmo_norsd_z0.700.dat  -output beta_3.0_random_sphere_00_stdcosmo_norsd_z0.700.dat\n",
      "./LSS_BSK_calc -beta 1.0 -numNNB 50 -input /Users/forero/github/cosmo_datasets/abacus/random_sphere_00_stdcosmo_norsd_z1.000.dat  -output beta_1.0_random_sphere_00_stdcosmo_norsd_z1.000.dat\n",
      "./LSS_BSK_calc -beta 2.0 -numNNB 50 -input /Users/forero/github/cosmo_datasets/abacus/random_sphere_00_stdcosmo_norsd_z1.000.dat  -output beta_2.0_random_sphere_00_stdcosmo_norsd_z1.000.dat\n",
      "./LSS_BSK_calc -beta 3.0 -numNNB 50 -input /Users/forero/github/cosmo_datasets/abacus/random_sphere_00_stdcosmo_norsd_z1.000.dat  -output beta_3.0_random_sphere_00_stdcosmo_norsd_z1.000.dat\n",
      "./LSS_BSK_calc -beta 1.0 -numNNB 50 -input /Users/forero/github/cosmo_datasets/abacus/random_sphere_00_stdcosmo_norsd_z1.500.dat  -output beta_1.0_random_sphere_00_stdcosmo_norsd_z1.500.dat\n",
      "./LSS_BSK_calc -beta 2.0 -numNNB 50 -input /Users/forero/github/cosmo_datasets/abacus/random_sphere_00_stdcosmo_norsd_z1.500.dat  -output beta_2.0_random_sphere_00_stdcosmo_norsd_z1.500.dat\n",
      "./LSS_BSK_calc -beta 3.0 -numNNB 50 -input /Users/forero/github/cosmo_datasets/abacus/random_sphere_00_stdcosmo_norsd_z1.500.dat  -output beta_3.0_random_sphere_00_stdcosmo_norsd_z1.500.dat\n"
     ]
    }
   ],
   "source": [
    "z_list = [\"0.100\", \"0.300\", \"0.500\", \"0.700\", \"1.000\", \"1.500\"]\n",
    "beta_values = [1.0, 2.0, 3.0]\n",
    "\n",
    "index_files = {}\n",
    "in_files = {}\n",
    "\n",
    "for i in beta_values:\n",
    "    index_files[i] = {}\n",
    "    in_files[i] = {}\n",
    "for z in z_list:\n",
    "    pos_filename = \"sphere_00_stdcosmo_norsd_z{}.dat\".format(z)\n",
    "    for i in beta_values:\n",
    "        index_files[i][z], in_files[i][z] = run_beta_skel(pos_filename, beta=i)\n",
    "        \n",
    "random_index_files = {}\n",
    "random_in_files = {}\n",
    "\n",
    "for i in beta_values:\n",
    "    random_index_files[i] = {}\n",
    "    random_in_files[i] = {}\n",
    "for z in z_list:\n",
    "    pos_filename = \"random_sphere_00_stdcosmo_norsd_z{}.dat\".format(z)\n",
    "    for i in beta_values:\n",
    "        random_index_files[i][z], random_in_files[i][z] = run_beta_skel(pos_filename, beta=i)\n",
    "        "
   ]
  },
  {
   "cell_type": "code",
   "execution_count": 85,
   "metadata": {},
   "outputs": [
    {
     "name": "stdout",
     "output_type": "stream",
     "text": [
      "[4.19270333e-02 7.46851567e-02 1.22440396e-01 1.80361950e-01\n",
      " 1.97522111e-01 2.07532205e-02 1.05268218e-02 2.18864161e-01\n",
      " 1.03045087e-01 2.40338396e-03 5.31147856e-03 1.98880023e-02\n",
      " 4.32609114e-04 1.04547202e-03 8.41184388e-05 3.84541434e-04\n",
      " 2.64372236e-04 1.20169198e-05 2.40338396e-05 1.20169198e-05\n",
      " 1.20169198e-05] 1.0\n",
      "Entropy 6.795492686790359\n",
      "[4.43123918e-01 1.18090271e-01 3.92532686e-01 3.71082484e-02\n",
      " 8.92857143e-03 2.16304557e-04] 1.0\n",
      "Entropy 3.8075793174616863\n",
      "[5.01201692e-01 2.07063545e-01 2.40963276e-01 1.61026726e-02\n",
      " 1.32186118e-04 3.45366276e-02] 1.0\n",
      "Entropy 3.983310262396371\n",
      "[2.19233579e-01 1.77392575e-01 1.20874012e-01 1.97870315e-01\n",
      " 7.45168360e-02 2.17174736e-02 1.04336853e-01 4.22505590e-02\n",
      " 2.07433973e-02 5.36848863e-03 1.11022559e-02 5.53452436e-05\n",
      " 1.15118107e-03 2.25808594e-03 9.96214385e-05 4.98107193e-04\n",
      " 4.42761949e-04 6.64142924e-05 2.21380975e-05] 1.0000000000000002\n",
      "Entropy 6.813821796268463\n",
      "[3.91479046e-01 9.06555091e-03 4.43846716e-01 1.18804100e-01\n",
      " 3.67160346e-02 8.85523898e-05] 1.0\n",
      "Entropy 3.8054145511819035\n",
      "[2.39777734e-01 5.01582874e-01 1.67806779e-02 2.06670209e-01\n",
      " 2.54588121e-04 3.49339178e-02] 1.0\n",
      "Entropy 3.99368196922965\n",
      "[1.78118180e-01 2.20380005e-01 1.97439053e-01 7.29290568e-02\n",
      " 1.20600312e-01 1.04309961e-01 1.13256726e-02 2.15446356e-02\n",
      " 4.21997662e-02 2.10171385e-02 2.34787915e-03 1.44803119e-04\n",
      " 5.37840158e-03 1.16876804e-03 5.37840158e-04 6.20584798e-05\n",
      " 4.03380119e-04 8.27446397e-05 1.03430800e-05] 1.0\n",
      "Entropy 6.813685403952181\n",
      "[4.42094267e-01 8.18137625e-03 1.18386893e-01 3.93357674e-01\n",
      " 3.78556727e-02 1.24116960e-04] 1.0\n",
      "Entropy 3.8031283871554504\n",
      "[2.06623708e-01 5.00574041e-01 2.40569697e-01 1.69936804e-02\n",
      " 1.86175439e-04 3.50526980e-02] 0.9999999999999999\n",
      "Entropy 3.9971714681173505\n",
      "[1.98167635e-01 2.17013974e-01 7.37778479e-02 1.20652077e-01\n",
      " 1.13511968e-02 1.77220683e-01 4.09471494e-02 1.07387647e-01\n",
      " 2.31757710e-03 2.15978461e-02 1.28206393e-04 2.23079123e-02\n",
      " 5.00004931e-03 1.10454738e-03 5.91721812e-05 4.53653389e-04\n",
      " 3.55033087e-04 1.47930453e-04 9.86203020e-06] 0.9999999999999998\n",
      "Entropy 6.819707435739299\n",
      "[3.93031489e-01 1.17515952e-01 4.42795294e-01 3.81068847e-02\n",
      " 8.41231176e-03 1.38068423e-04] 1.0000000000000002\n",
      "Entropy 3.8046515710285007\n",
      "[4.98525626e-01 2.08542491e-01 2.43049734e-01 1.65583487e-02\n",
      " 2.07102634e-04 3.31166974e-02] 1.0\n",
      "Entropy 3.9871158615682463\n",
      "[1.20024228e-01 1.74717495e-01 7.31199485e-02 5.15795650e-03\n",
      " 1.97223221e-01 4.16138252e-02 2.18470216e-01 1.08705116e-01\n",
      " 1.16314285e-02 1.19248169e-03 2.23732278e-02 5.20527720e-04\n",
      " 2.31871439e-03 2.22501940e-02 4.06958036e-04 6.62489826e-05\n",
      " 1.60890386e-04 3.78565615e-05 9.46414037e-06] 0.9999999999999999\n",
      "Entropy 6.833061988292158\n",
      "[4.40839659e-01 8.46094149e-03 3.94891257e-01 1.16389998e-01\n",
      " 3.92667184e-02 1.41962106e-04 9.46414037e-06] 0.9999999999999999\n",
      "Entropy 3.810885009800175\n",
      "[2.06990214e-01 2.43966611e-01 4.98779126e-01 1.62783214e-02\n",
      " 2.17675229e-04 3.37680528e-02] 1.0\n",
      "Entropy 3.9877283325160793\n",
      "[2.15446646e-01 1.08305507e-01 1.98462264e-01 1.73413909e-01\n",
      " 1.21190543e-01 7.41923998e-02 4.10030889e-02 2.27484868e-02\n",
      " 2.37011519e-02 1.14993408e-02 5.34069804e-03 2.38647408e-03\n",
      " 5.67749882e-04 3.84915174e-05 3.84915174e-04 1.15474552e-03\n",
      " 3.84915174e-05 1.15474552e-04 9.62287936e-06] 1.0000000000000002\n",
      "Entropy 6.847929034399473\n",
      "[3.95673553e-01 4.37735159e-01 1.15243603e-01 4.27352072e-02\n",
      " 8.46813384e-03 1.44343190e-04] 1.0\n",
      "Entropy 3.8331996416895304\n",
      "[4.98022498e-01 2.01195162e-01 2.49569376e-01 1.65032381e-02\n",
      " 1.44343190e-04 3.45653827e-02] 1.0\n",
      "Entropy 3.9913428800916275\n",
      "[3.95957508e-02 1.48384926e-01 1.83894924e-01 5.65996924e-02\n",
      " 6.51317054e-03 1.41282926e-01 1.76204095e-01 8.77235147e-04\n",
      " 9.63396462e-02 2.97178427e-02 1.48769467e-02 9.15689291e-02\n",
      " 1.02263988e-02 2.21111325e-03 1.38194578e-03 3.60507595e-05\n",
      " 2.16304557e-04 4.80676793e-05 1.20169198e-05 1.20169198e-05] 1.0\n",
      "Entropy 7.2754359477025\n",
      "[2.80162469e-01 4.57351952e-01 2.01415593e-01 2.39136704e-03\n",
      " 4.66256489e-02 1.20409537e-02 1.20169198e-05] 1.0\n",
      "Entropy 4.14486143990014\n",
      "[0.24391944 0.24039848 0.43789656 0.03506537 0.0008532  0.04186695] 1.0\n",
      "Entropy 4.334460727443108\n",
      "[9.59022382e-02 1.74459277e-01 9.19505878e-02 3.90848111e-02\n",
      " 1.83159549e-01 1.40886852e-01 1.50328751e-01 5.82674725e-02\n",
      " 2.71191694e-03 1.44119014e-02 2.99196387e-02 9.97321290e-03\n",
      " 6.34256492e-03 3.98485754e-04 7.74833411e-04 9.96214385e-05\n",
      " 1.20652631e-03 6.64142924e-05 2.21380975e-05 3.32071462e-05] 1.0000000000000002\n",
      "Entropy 7.282336637199283\n",
      "[2.00936442e-01 4.59819353e-01 4.64567975e-02 2.77733502e-01\n",
      " 1.25412322e-02 2.50160501e-03 1.10690487e-05] 1.0\n",
      "Entropy 4.146153595959065\n",
      "[0.43873282 0.23568219 0.24916429 0.03473467 0.00097408 0.04071196] 1.0\n",
      "Entropy 4.325556694273404\n",
      "[5.73523784e-02 9.47943279e-02 1.43199942e-01 3.08016921e-02\n",
      " 1.74125751e-01 1.82265755e-01 1.50698675e-01 3.88589514e-02\n",
      " 1.37873256e-02 9.23326748e-02 6.50579730e-03 1.00327876e-02\n",
      " 1.07568032e-03 3.30978559e-04 2.58576999e-03 1.04465108e-03\n",
      " 8.27446397e-05 1.03430800e-05 1.03430800e-04 1.03430800e-05] 1.0\n",
      "Entropy 7.279451842386266\n",
      "[4.62149499e-01 2.75177642e-01 1.99569728e-01 4.85297312e-02\n",
      " 2.30650683e-03 1.22358636e-02 3.10292399e-05] 1.0\n",
      "Entropy 4.147267910046201\n",
      "[4.37191647e-01 2.47106523e-01 2.37932211e-01 3.57870567e-02\n",
      " 1.08602340e-03 1.03430800e-05 4.08861951e-02] 1.0\n",
      "Entropy 4.339101639727725\n",
      "[1.50603063e-01 9.61745185e-02 1.80741427e-01 3.00496060e-02\n",
      " 5.87875620e-02 1.76540203e-01 3.81463328e-02 9.13322617e-02\n",
      " 1.41776546e-01 1.54932494e-02 1.06509926e-03 9.47741102e-03\n",
      " 5.80873579e-03 3.35309027e-04 2.52467973e-03 1.01578911e-03\n",
      " 4.93101510e-05 7.88962416e-05] 1.0\n",
      "Entropy 7.273855549721967\n",
      "[2.77409047e-01 4.62272803e-01 1.97082811e-01 2.09075040e-03\n",
      " 4.81168453e-02 1.29981558e-02 2.95860906e-05] 0.9999999999999999\n",
      "Entropy 4.146234305156179\n",
      "[0.43768676 0.23816803 0.24717206 0.035454   0.00101579 0.04050336] 1.0\n",
      "Entropy 4.332099931846367\n",
      "[9.60137041e-02 1.40722303e-01 6.49240030e-03 1.82402377e-01\n",
      " 5.74662603e-02 8.32844353e-04 3.04745320e-02 1.75938370e-01\n",
      " 1.49703772e-01 3.71372868e-02 9.34489220e-02 2.45121236e-03\n",
      " 1.45747762e-02 1.05619807e-02 1.22087411e-03 3.97493896e-04\n",
      " 9.46414037e-05 1.89282807e-05 4.73207019e-05] 0.9999999999999999\n",
      "Entropy 7.280174708057829\n",
      "[2.79722133e-01 2.32817853e-03 4.72260605e-02 1.97459825e-01\n",
      " 4.60543999e-01 1.26914122e-02 2.83924211e-05] 1.0\n",
      "Entropy 4.144984563586251\n",
      "[2.45338911e-01 3.50173194e-02 4.36571331e-01 2.40322916e-01\n",
      " 9.46414037e-04 1.89282807e-05 4.17841797e-02] 0.9999999999999999\n",
      "Entropy 4.338610963788635\n",
      "[3.11107690e-02 1.77320798e-01 9.11960277e-02 5.75736872e-02\n",
      " 1.41004051e-01 1.48423291e-01 1.82430547e-01 3.74233778e-02\n",
      " 9.68061663e-02 1.53581155e-02 9.72873103e-03 2.32873680e-03\n",
      " 6.41846053e-03 4.04160933e-04 1.10663113e-03 1.20285992e-03\n",
      " 1.92457587e-05 7.69830349e-05 5.77372761e-05 9.62287936e-06] 1.0000000000000002\n",
      "Entropy 7.2826836754371245\n",
      "[4.60714595e-01 2.81344124e-01 1.95642760e-01 4.69404055e-02\n",
      " 1.30678702e-02 2.26137665e-03 2.88686381e-05] 0.9999999999999999\n",
      "Entropy 4.143663531778346\n",
      "[0.44055466 0.0348252  0.246721   0.23628018 0.00085644 0.04076252] 1.0\n",
      "Entropy 4.320893062197887\n"
     ]
    }
   ],
   "source": [
    "entropy_values = {}\n",
    "for i in beta_values:\n",
    "    entropy_values[i] = []\n",
    "    \n",
    "for z in z_list:\n",
    "    for i in beta_values:\n",
    "        entropy_values[i].append(get_entropy_beta_skel(in_files[i][z], index_files[i][z]))\n",
    "        \n",
    "random_entropy_values = {}\n",
    "for i in beta_values:\n",
    "    random_entropy_values[i] = []\n",
    "    \n",
    "for z in z_list:\n",
    "    for i in beta_values:\n",
    "        random_entropy_values[i].append(get_entropy_beta_skel(random_in_files[i][z], random_index_files[i][z]))"
   ]
  },
  {
   "cell_type": "code",
   "execution_count": 86,
   "metadata": {},
   "outputs": [
    {
     "data": {
      "text/plain": [
       "<matplotlib.legend.Legend at 0x123194828>"
      ]
     },
     "execution_count": 86,
     "metadata": {},
     "output_type": "execute_result"
    },
    {
     "data": {
      "image/png": "[encoded data removed]",
      "text/plain": [
       "<Figure size 432x288 with 1 Axes>"
      ]
     },
     "metadata": {},
     "output_type": "display_data"
    }
   ],
   "source": [
    "z_numbers = np.float_(np.array(z_list))\n",
    "plt.plot(z_numbers, np.array(entropy_values[1.0])-np.array(random_entropy_values[1.0]), label=r\"$\\beta=1.0$\")\n",
    "plt.plot(z_numbers, np.array(entropy_values[2.0])-np.array(random_entropy_values[2.0]), label=r\"$\\beta=2.0$\")\n",
    "plt.plot(z_numbers, np.array(entropy_values[3.0])-np.array(random_entropy_values[3.0]), label=r\"$\\beta=3.0$\")\n",
    "plt.legend()"
   ]
  },
  {
   "cell_type": "code",
   "execution_count": 96,
   "metadata": {},
   "outputs": [
    {
     "data": {
      "text/plain": [
       "<matplotlib.legend.Legend at 0x1231dd908>"
      ]
     },
     "execution_count": 96,
     "metadata": {},
     "output_type": "execute_result"
    },
    {
     "data": {
      "image/png": "[encoded data removed]",
      "text/plain": [
       "<Figure size 432x288 with 1 Axes>"
      ]
     },
     "metadata": {},
     "output_type": "display_data"
    }
   ],
   "source": [
    "z_numbers = np.float_(np.array(z_list))\n",
    "plt.plot(z_numbers, np.array(entropy_values[1.0])-entropy_values[1.0][0], label=r\"$\\beta=1.0$\")\n",
    "plt.plot(z_numbers, np.array(random_entropy_values[1.0])-random_entropy_values[1.0][0], label=r\"$\\beta=1.0$\")\n",
    "plt.legend()"
   ]
  },
  {
   "cell_type": "code",
   "execution_count": 97,
   "metadata": {},
   "outputs": [
    {
     "data": {
      "text/plain": [
       "<matplotlib.legend.Legend at 0x1225af6d8>"
      ]
     },
     "execution_count": 97,
     "metadata": {},
     "output_type": "execute_result"
    },
    {
     "data": {
      "image/png": "[encoded data removed]",
      "text/plain": [
       "<Figure size 432x288 with 1 Axes>"
      ]
     },
     "metadata": {},
     "output_type": "display_data"
    }
   ],
   "source": [
    "z_numbers = np.float_(np.array(z_list))\n",
    "plt.plot(z_numbers, np.array(entropy_values[2.0])-entropy_values[2.0][0], label=r\"$\\beta=1.0$\")\n",
    "plt.plot(z_numbers, np.array(random_entropy_values[2.0])-random_entropy_values[2.0][0], label=r\"$\\beta=1.0$\")\n",
    "plt.legend()"
   ]
  },
  {
   "cell_type": "code",
   "execution_count": 98,
   "metadata": {},
   "outputs": [
    {
     "data": {
      "text/plain": [
       "<matplotlib.legend.Legend at 0x122594940>"
      ]
     },
     "execution_count": 98,
     "metadata": {},
     "output_type": "execute_result"
    },
    {
     "data": {
      "image/png": "[encoded data removed]",
      "text/plain": [
       "<Figure size 432x288 with 1 Axes>"
      ]
     },
     "metadata": {},
     "output_type": "display_data"
    }
   ],
   "source": [
    "z_numbers = np.float_(np.array(z_list))\n",
    "plt.plot(z_numbers, np.array(entropy_values[3.0])-entropy_values[3.0][0], label=r\"$\\beta=1.0$\")\n",
    "plt.plot(z_numbers, np.array(random_entropy_values[3.0])-random_entropy_values[3.0][0], label=r\"$\\beta=1.0$\")\n",
    "plt.legend()"
   ]
  },
  {
   "cell_type": "code",
   "execution_count": 109,
   "metadata": {},
   "outputs": [
    {
     "name": "stdout",
     "output_type": "stream",
     "text": [
      "./LSS_BSK_calc -beta 1.5 -numNNB 50 -input /Users/forero/github/cosmo_datasets/abacus/random_sphere_00_stdcosmo_norsd_z0.100.dat  -output beta_1.5_random_sphere_00_stdcosmo_norsd_z0.100.dat\n",
      "./LSS_BSK_calc -beta 2.5 -numNNB 50 -input /Users/forero/github/cosmo_datasets/abacus/random_sphere_00_stdcosmo_norsd_z0.100.dat  -output beta_2.5_random_sphere_00_stdcosmo_norsd_z0.100.dat\n",
      "./LSS_BSK_calc -beta 3.5 -numNNB 50 -input /Users/forero/github/cosmo_datasets/abacus/random_sphere_00_stdcosmo_norsd_z0.100.dat  -output beta_3.5_random_sphere_00_stdcosmo_norsd_z0.100.dat\n",
      "./LSS_BSK_calc -beta 4.0 -numNNB 50 -input /Users/forero/github/cosmo_datasets/abacus/random_sphere_00_stdcosmo_norsd_z0.100.dat  -output beta_4.0_random_sphere_00_stdcosmo_norsd_z0.100.dat\n",
      "./LSS_BSK_calc -beta 4.5 -numNNB 50 -input /Users/forero/github/cosmo_datasets/abacus/random_sphere_00_stdcosmo_norsd_z0.100.dat  -output beta_4.5_random_sphere_00_stdcosmo_norsd_z0.100.dat\n",
      "./LSS_BSK_calc -beta 5.0 -numNNB 50 -input /Users/forero/github/cosmo_datasets/abacus/random_sphere_00_stdcosmo_norsd_z0.100.dat  -output beta_5.0_random_sphere_00_stdcosmo_norsd_z0.100.dat\n"
     ]
    }
   ],
   "source": [
    "z_list = [\"0.100\"]\n",
    "beta_values = [1.0, 1.5, 2.0, 2.5, 3.0, 3.5, 4.0, 4.5, 5.0]\n",
    "\n",
    "index_files = {}\n",
    "in_files = {}\n",
    "\n",
    "for i in beta_values:\n",
    "    index_files[i] = {}\n",
    "    in_files[i] = {}\n",
    "for z in z_list:\n",
    "    pos_filename = \"sphere_00_stdcosmo_norsd_z{}.dat\".format(z)\n",
    "    for i in beta_values:\n",
    "        index_files[i][z], in_files[i][z] = run_beta_skel(pos_filename, beta=i)\n",
    "        \n",
    "\n",
    "random_index_files = {}\n",
    "random_in_files = {}\n",
    "\n",
    "for i in beta_values:\n",
    "    random_index_files[i] = {}\n",
    "    random_in_files[i] = {}\n",
    "for z in z_list:\n",
    "    pos_filename = \"random_sphere_00_stdcosmo_norsd_z{}.dat\".format(z)\n",
    "    for i in beta_values:\n",
    "        random_index_files[i][z], random_in_files[i][z] = run_beta_skel(pos_filename, beta=i)"
   ]
  },
  {
   "cell_type": "code",
   "execution_count": 110,
   "metadata": {},
   "outputs": [
    {
     "name": "stdout",
     "output_type": "stream",
     "text": [
      "[4.19270333e-02 7.46851567e-02 1.22440396e-01 1.80361950e-01\n",
      " 1.97522111e-01 2.07532205e-02 1.05268218e-02 2.18864161e-01\n",
      " 1.03045087e-01 2.40338396e-03 5.31147856e-03 1.98880023e-02\n",
      " 4.32609114e-04 1.04547202e-03 8.41184388e-05 3.84541434e-04\n",
      " 2.64372236e-04 1.20169198e-05 2.40338396e-05 1.20169198e-05\n",
      " 1.20169198e-05] 1.0\n",
      "Entropy 6.795492686790359\n",
      "[3.95957508e-02 1.48384926e-01 1.83894924e-01 5.65996924e-02\n",
      " 6.51317054e-03 1.41282926e-01 1.76204095e-01 8.77235147e-04\n",
      " 9.63396462e-02 2.97178427e-02 1.48769467e-02 9.15689291e-02\n",
      " 1.02263988e-02 2.21111325e-03 1.38194578e-03 3.60507595e-05\n",
      " 2.16304557e-04 4.80676793e-05 1.20169198e-05 1.20169198e-05] 1.0\n",
      "Entropy 7.2754359477025\n",
      "[2.97707172e-01 3.28182080e-02 1.21983753e-01 3.74363103e-01\n",
      " 1.57145261e-01 3.60507595e-05 1.20169198e-05 7.35435493e-03\n",
      " 6.84964430e-03 1.50211498e-03 2.16304557e-04 1.20169198e-05] 0.9999999999999999\n",
      "Entropy 4.885273070406353\n",
      "[3.26163238e-01 2.77843203e-01 1.69751009e-01 1.35322534e-01\n",
      " 4.38016728e-02 3.38156124e-02 1.00221111e-02 1.29782734e-03\n",
      " 1.69438570e-03 2.52355316e-04 3.60507595e-05] 1.0\n",
      "Entropy 5.3566835716773396\n",
      "[4.43123918e-01 1.18090271e-01 3.92532686e-01 3.71082484e-02\n",
      " 8.92857143e-03 2.16304557e-04] 1.0\n",
      "Entropy 3.8075793174616863\n",
      "[2.80162469e-01 4.57351952e-01 2.01415593e-01 2.39136704e-03\n",
      " 4.66256489e-02 1.20409537e-02 1.20169198e-05] 1.0\n",
      "Entropy 4.14486143990014\n",
      "[0.4951692  0.30431648 0.14756778 0.04010046 0.00088925 0.01195684] 1.0\n",
      "Entropy 3.921839627605147\n",
      "[3.97195251e-01 3.68198423e-01 9.65439339e-02 1.21983753e-01\n",
      " 5.73207076e-03 1.32186118e-04 1.02143818e-02] 0.9999999999999999\n",
      "Entropy 4.300383532019268\n",
      "[5.01201692e-01 2.07063545e-01 2.40963276e-01 1.61026726e-02\n",
      " 1.32186118e-04 3.45366276e-02] 1.0\n",
      "Entropy 3.983310262396371\n",
      "[0.24391944 0.24039848 0.43789656 0.03506537 0.0008532  0.04186695] 1.0\n",
      "Entropy 4.334460727443108\n",
      "[3.09207364e-01 1.48348875e-01 4.72060661e-01 8.08738704e-03\n",
      " 4.80676793e-05 6.22476447e-02] 1.0\n",
      "Entropy 4.028290948236733\n",
      "[3.35452317e-01 4.10690252e-01 1.54116997e-01 1.43722361e-02\n",
      " 1.92270717e-04 8.51759277e-02] 0.9999999999999999\n",
      "Entropy 4.293598029305941\n",
      "[3.55808979e-01 4.37343780e-01 1.10507595e-01 4.27802346e-03\n",
      " 1.20169198e-05 9.20496058e-02] 1.0\n",
      "Entropy 4.0389241078991995\n",
      "[3.97291386e-01 3.61168525e-01 1.01927514e-01 6.66939050e-03\n",
      " 8.41184388e-05 1.32859066e-01] 1.0\n",
      "Entropy 4.217780733916748\n",
      "[0.38924005 0.4021342  0.08564459 0.00261969 0.12036147] 1.0000000000000002\n",
      "Entropy 4.034441793431545\n",
      "[4.33678619e-01 3.11466545e-01 6.88329167e-02 3.25658527e-03\n",
      " 1.20169198e-05 1.82753317e-01] 1.0\n",
      "Entropy 4.1166375494702\n",
      "[0.41339406 0.37062584 0.06809988 0.00168237 0.14619785] 1.0\n",
      "Entropy 4.012445767392117\n",
      "[0.45046626 0.26877043 0.04878869 0.00175447 0.23022015] 1.0\n",
      "Entropy 4.016169251994645\n"
     ]
    }
   ],
   "source": [
    "entropy_values = {}\n",
    "random_entropy_values = {}\n",
    "for i in z_list:\n",
    "    entropy_values[i] = []\n",
    "    random_entropy_values[i] = []\n",
    "    \n",
    "for z in z_list:\n",
    "    for i in beta_values:\n",
    "        entropy_values[z].append(get_entropy_beta_skel(in_files[i][z], index_files[i][z]))\n",
    "        random_entropy_values[z].append(get_entropy_beta_skel(random_in_files[i][z], random_index_files[i][z]))"
   ]
  },
  {
   "cell_type": "code",
   "execution_count": 112,
   "metadata": {},
   "outputs": [
    {
     "data": {
      "text/plain": [
       "[<matplotlib.lines.Line2D at 0x1227d5908>]"
      ]
     },
     "execution_count": 112,
     "metadata": {},
     "output_type": "execute_result"
    },
    {
     "data": {
      "image/png": "[encoded data removed]",
      "text/plain": [
       "<Figure size 432x288 with 1 Axes>"
      ]
     },
     "metadata": {},
     "output_type": "display_data"
    }
   ],
   "source": [
    "plt.plot(beta_values, np.array(random_entropy_values['0.100'])-np.array(entropy_values['0.100']))"
   ]
  },
  {
   "cell_type": "code",
   "execution_count": 113,
   "metadata": {},
   "outputs": [
    {
     "data": {
      "text/plain": [
       "[<matplotlib.lines.Line2D at 0x122780e48>]"
      ]
     },
     "execution_count": 113,
     "metadata": {},
     "output_type": "execute_result"
    },
    {
     "data": {
      "image/png": "[encoded data removed]",
      "text/plain": [
       "<Figure size 432x288 with 1 Axes>"
      ]
     },
     "metadata": {},
     "output_type": "display_data"
    }
   ],
   "source": [
    "plt.plot(beta_values, np.array(random_entropy_values['0.100']))\n",
    "plt.plot(beta_values, np.array(entropy_values['0.100']))"
   ]
  },
  {
   "cell_type": "code",
   "execution_count": null,
   "metadata": {},
   "outputs": [],
   "source": []
  }
 ],
 "metadata": {
  "kernelspec": {
   "display_name": "Python 3",
   "language": "python",
   "name": "python3"
  },
  "language_info": {
   "codemirror_mode": {
    "name": "ipython",
    "version": 3
   },
   "file_extension": ".py",
   "mimetype": "text/x-python",
   "name": "python",
   "nbconvert_exporter": "python",
   "pygments_lexer": "ipython3",
   "version": "3.6.8"
  }
 },
 "nbformat": 4,
 "nbformat_minor": 2
}
