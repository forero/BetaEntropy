{
 "cells": [
  {
   "cell_type": "code",
   "execution_count": 23,
   "metadata": {},
   "outputs": [],
   "source": [
    "import numpy as np\n",
    "import matplotlib.pyplot as plt\n",
    "import h5py\n",
    "import os\n",
    "from collections import Counter\n",
    "\n",
    "%matplotlib inline"
   ]
  },
  {
   "cell_type": "code",
   "execution_count": 54,
   "metadata": {},
   "outputs": [],
   "source": [
    "def run_beta_skel(pos_filename, beta=1.0):\n",
    "    skel = \"./LSS_BSK_calc \"\n",
    "    in_filename = \"/Users/forero/github/cosmo_datasets/abacus/\"+pos_filename\n",
    "    out_filename =  \"beta_{:.1f}_{}\".format(beta, pos_filename)\n",
    "    index_filename = \"xdl_beta_skeleton/{}.BSKIndex\".format(out_filename)\n",
    "    if not os.path.exists(index_filename):\n",
    "        cmd = \"./LSS_BSK_calc -beta {} -numNNB {} -input {}  -output {}\".format(beta, 50, in_filename, out_filename)\n",
    "        print(cmd)\n",
    "        os.system(cmd)\n",
    "    return index_filename, in_filename\n",
    "\n",
    "\n",
    "def get_entropy_beta_skel(in_filename, index_filename):\n",
    "    beta_data = np.int_(np.loadtxt(index_filename))\n",
    "    point_data = np.loadtxt(in_filename)\n",
    "    \n",
    "    # remove the duplicate points using the fact that the first column is ordered in ngl-beta\n",
    "    ii = beta_data[:,0]<beta_data[:,1]\n",
    "    beta_data = beta_data[ii]\n",
    "\n",
    "    n_points = len(point_data)\n",
    "    #print(n_points)\n",
    "\n",
    "    # Flattend and count links\n",
    "    beta_data_flat = beta_data.flatten()\n",
    "    beta_link_count = Counter(Counter(beta_data_flat).values())\n",
    "\n",
    "    # Count how many points have zero links\n",
    "    unique_beta_id = len(set(beta_data_flat))\n",
    "    if (n_points - unique_beta_id)>0:\n",
    "        beta_link_count[0] = n_points - unique_beta_id\n",
    "\n",
    "    assert np.sum(list(beta_link_count.values()))==n_points\n",
    "    # compute probability array\n",
    "    proba = []\n",
    "    total_link = np.sum(list(beta_link_count.values()))\n",
    "    for k in beta_link_count:\n",
    "        #print(k, beta_link_count[k]/total_link)\n",
    "        proba.append(beta_link_count[k]/total_link)\n",
    "    proba = np.array(proba)\n",
    "    print(proba, proba.sum())\n",
    "    entropy = np.sum(-proba*np.log(proba)/np.log10(2))\n",
    "    print('Entropy', entropy)\n",
    "    return entropy"
   ]
  },
  {
   "cell_type": "code",
   "execution_count": 79,
   "metadata": {},
   "outputs": [],
   "source": [
    "z_list = [\"0.100\", \"0.300\", \"0.500\", \"0.700\", \"1.000\", \"1.500\"]\n",
    "beta_values = [1.0, 2.0, 3.0]\n",
    "index_files = {}\n",
    "in_files = {}\n",
    "\n",
    "for i in [1.0, 2.0, 3.0]:\n",
    "    index_files[i] = {}\n",
    "    in_files[i] = {}\n",
    "for z in z_list:\n",
    "    pos_filename = \"sphere_00_stdcosmo_norsd_z{}.dat\".format(z)\n",
    "    for i in [1.0, 2.0, 3.0]:\n",
    "        index_files[i][z], in_files[i][z] = run_beta_skel(pos_filename, beta=i)"
   ]
  },
  {
   "cell_type": "code",
   "execution_count": 80,
   "metadata": {},
   "outputs": [
    {
     "name": "stdout",
     "output_type": "stream",
     "text": [
      "[4.19270333e-02 7.46851567e-02 1.22440396e-01 1.80361950e-01\n",
      " 1.97522111e-01 2.07532205e-02 1.05268218e-02 2.18864161e-01\n",
      " 1.03045087e-01 2.40338396e-03 5.31147856e-03 1.98880023e-02\n",
      " 4.32609114e-04 1.04547202e-03 8.41184388e-05 3.84541434e-04\n",
      " 2.64372236e-04 1.20169198e-05 2.40338396e-05 1.20169198e-05\n",
      " 1.20169198e-05] 1.0\n",
      "Entropy 6.795492686790359\n",
      "[4.43123918e-01 1.18090271e-01 3.92532686e-01 3.71082484e-02\n",
      " 8.92857143e-03 2.16304557e-04] 1.0\n",
      "Entropy 3.8075793174616863\n",
      "[5.01201692e-01 2.07063545e-01 2.40963276e-01 1.61026726e-02\n",
      " 1.32186118e-04 3.45366276e-02] 1.0\n",
      "Entropy 3.983310262396371\n",
      "[2.19233579e-01 1.77392575e-01 1.20874012e-01 1.97870315e-01\n",
      " 7.45168360e-02 2.17174736e-02 1.04336853e-01 4.22505590e-02\n",
      " 2.07433973e-02 5.36848863e-03 1.11022559e-02 5.53452436e-05\n",
      " 1.15118107e-03 2.25808594e-03 9.96214385e-05 4.98107193e-04\n",
      " 4.42761949e-04 6.64142924e-05 2.21380975e-05] 1.0000000000000002\n",
      "Entropy 6.813821796268463\n",
      "[3.91479046e-01 9.06555091e-03 4.43846716e-01 1.18804100e-01\n",
      " 3.67160346e-02 8.85523898e-05] 1.0\n",
      "Entropy 3.8054145511819035\n",
      "[2.39777734e-01 5.01582874e-01 1.67806779e-02 2.06670209e-01\n",
      " 2.54588121e-04 3.49339178e-02] 1.0\n",
      "Entropy 3.99368196922965\n",
      "[1.78118180e-01 2.20380005e-01 1.97439053e-01 7.29290568e-02\n",
      " 1.20600312e-01 1.04309961e-01 1.13256726e-02 2.15446356e-02\n",
      " 4.21997662e-02 2.10171385e-02 2.34787915e-03 1.44803119e-04\n",
      " 5.37840158e-03 1.16876804e-03 5.37840158e-04 6.20584798e-05\n",
      " 4.03380119e-04 8.27446397e-05 1.03430800e-05] 1.0\n",
      "Entropy 6.813685403952181\n",
      "[4.42094267e-01 8.18137625e-03 1.18386893e-01 3.93357674e-01\n",
      " 3.78556727e-02 1.24116960e-04] 1.0\n",
      "Entropy 3.8031283871554504\n",
      "[2.06623708e-01 5.00574041e-01 2.40569697e-01 1.69936804e-02\n",
      " 1.86175439e-04 3.50526980e-02] 0.9999999999999999\n",
      "Entropy 3.9971714681173505\n",
      "[1.98167635e-01 2.17013974e-01 7.37778479e-02 1.20652077e-01\n",
      " 1.13511968e-02 1.77220683e-01 4.09471494e-02 1.07387647e-01\n",
      " 2.31757710e-03 2.15978461e-02 1.28206393e-04 2.23079123e-02\n",
      " 5.00004931e-03 1.10454738e-03 5.91721812e-05 4.53653389e-04\n",
      " 3.55033087e-04 1.47930453e-04 9.86203020e-06] 0.9999999999999998\n",
      "Entropy 6.819707435739299\n",
      "[3.93031489e-01 1.17515952e-01 4.42795294e-01 3.81068847e-02\n",
      " 8.41231176e-03 1.38068423e-04] 1.0000000000000002\n",
      "Entropy 3.8046515710285007\n",
      "[4.98525626e-01 2.08542491e-01 2.43049734e-01 1.65583487e-02\n",
      " 2.07102634e-04 3.31166974e-02] 1.0\n",
      "Entropy 3.9871158615682463\n",
      "[1.20024228e-01 1.74717495e-01 7.31199485e-02 5.15795650e-03\n",
      " 1.97223221e-01 4.16138252e-02 2.18470216e-01 1.08705116e-01\n",
      " 1.16314285e-02 1.19248169e-03 2.23732278e-02 5.20527720e-04\n",
      " 2.31871439e-03 2.22501940e-02 4.06958036e-04 6.62489826e-05\n",
      " 1.60890386e-04 3.78565615e-05 9.46414037e-06] 0.9999999999999999\n",
      "Entropy 6.833061988292158\n",
      "[4.40839659e-01 8.46094149e-03 3.94891257e-01 1.16389998e-01\n",
      " 3.92667184e-02 1.41962106e-04 9.46414037e-06] 0.9999999999999999\n",
      "Entropy 3.810885009800175\n",
      "[2.06990214e-01 2.43966611e-01 4.98779126e-01 1.62783214e-02\n",
      " 2.17675229e-04 3.37680528e-02] 1.0\n",
      "Entropy 3.9877283325160793\n",
      "[2.15446646e-01 1.08305507e-01 1.98462264e-01 1.73413909e-01\n",
      " 1.21190543e-01 7.41923998e-02 4.10030889e-02 2.27484868e-02\n",
      " 2.37011519e-02 1.14993408e-02 5.34069804e-03 2.38647408e-03\n",
      " 5.67749882e-04 3.84915174e-05 3.84915174e-04 1.15474552e-03\n",
      " 3.84915174e-05 1.15474552e-04 9.62287936e-06] 1.0000000000000002\n",
      "Entropy 6.847929034399473\n",
      "[3.95673553e-01 4.37735159e-01 1.15243603e-01 4.27352072e-02\n",
      " 8.46813384e-03 1.44343190e-04] 1.0\n",
      "Entropy 3.8331996416895304\n",
      "[4.98022498e-01 2.01195162e-01 2.49569376e-01 1.65032381e-02\n",
      " 1.44343190e-04 3.45653827e-02] 1.0\n",
      "Entropy 3.9913428800916275\n"
     ]
    }
   ],
   "source": [
    "entropy_values = {}\n",
    "for i in beta_values:\n",
    "    entropy_values[i] = []\n",
    "    \n",
    "for z in z_list:\n",
    "    for i in beta_values:\n",
    "        entropy_values[i].append(get_entropy_beta_skel(in_files[i][z], index_files[i][z]))"
   ]
  },
  {
   "cell_type": "code",
   "execution_count": 81,
   "metadata": {},
   "outputs": [
    {
     "data": {
      "text/plain": [
       "<matplotlib.legend.Legend at 0x1210b9358>"
      ]
     },
     "execution_count": 81,
     "metadata": {},
     "output_type": "execute_result"
    },
    {
     "data": {
      "image/png": "[encoded data removed]",
      "text/plain": [
       "<Figure size 432x288 with 1 Axes>"
      ]
     },
     "metadata": {},
     "output_type": "display_data"
    }
   ],
   "source": [
    "z_numbers = np.float_(np.array(z_list))\n",
    "plt.plot(z_numbers, np.array(entropy_values[1.0])-entropy_values[1.0][0], label=r\"$\\beta=1.0$\")\n",
    "plt.plot(z_numbers, np.array(entropy_values[2.0])-entropy_values[2.0][0], label=r\"$\\beta=2.0$\")\n",
    "plt.plot(z_numbers, np.array(entropy_values[3.0])-entropy_values[3.0][0], label=r\"$\\beta=3.0$\")\n",
    "plt.legend()"
   ]
  },
  {
   "cell_type": "code",
   "execution_count": null,
   "metadata": {},
   "outputs": [],
   "source": []
  }
 ],
 "metadata": {
  "kernelspec": {
   "display_name": "Python 3",
   "language": "python",
   "name": "python3"
  },
  "language_info": {
   "codemirror_mode": {
    "name": "ipython",
    "version": 3
   },
   "file_extension": ".py",
   "mimetype": "text/x-python",
   "name": "python",
   "nbconvert_exporter": "python",
   "pygments_lexer": "ipython3",
   "version": "3.6.8"
  }
 },
 "nbformat": 4,
 "nbformat_minor": 2
}
